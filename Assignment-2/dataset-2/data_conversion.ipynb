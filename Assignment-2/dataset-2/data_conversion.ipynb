{
 "cells": [
  {
   "cell_type": "code",
   "execution_count": 4,
   "metadata": {},
   "outputs": [],
   "source": [
    "import pandas as pd "
   ]
  },
  {
   "cell_type": "code",
   "execution_count": 5,
   "metadata": {},
   "outputs": [],
   "source": [
    "csv_path = \"./Data Science Data Collection - Sheet1.csv\"\n",
    "h5_path = \"./foot_traffic_dataset.h5\""
   ]
  },
  {
   "cell_type": "code",
   "execution_count": 3,
   "metadata": {},
   "outputs": [],
   "source": [
    "df = pd.read_csv(csv_path)"
   ]
  },
  {
   "cell_type": "code",
   "execution_count": 4,
   "metadata": {},
   "outputs": [
    {
     "data": {
      "text/html": [
       "<div>\n",
       "<style scoped>\n",
       "    .dataframe tbody tr th:only-of-type {\n",
       "        vertical-align: middle;\n",
       "    }\n",
       "\n",
       "    .dataframe tbody tr th {\n",
       "        vertical-align: top;\n",
       "    }\n",
       "\n",
       "    .dataframe thead th {\n",
       "        text-align: right;\n",
       "    }\n",
       "</style>\n",
       "<table border=\"1\" class=\"dataframe\">\n",
       "  <thead>\n",
       "    <tr style=\"text-align: right;\">\n",
       "      <th></th>\n",
       "      <th>Date</th>\n",
       "      <th>Time</th>\n",
       "      <th>Student Count (1 min interval starting at time)</th>\n",
       "    </tr>\n",
       "  </thead>\n",
       "  <tbody>\n",
       "    <tr>\n",
       "      <th>0</th>\n",
       "      <td>2024-09-24</td>\n",
       "      <td>9:00 AM</td>\n",
       "      <td>15</td>\n",
       "    </tr>\n",
       "    <tr>\n",
       "      <th>1</th>\n",
       "      <td>2024-09-24</td>\n",
       "      <td>9:15 AM</td>\n",
       "      <td>8</td>\n",
       "    </tr>\n",
       "    <tr>\n",
       "      <th>2</th>\n",
       "      <td>2024-09-24</td>\n",
       "      <td>9:30 AM</td>\n",
       "      <td>4</td>\n",
       "    </tr>\n",
       "    <tr>\n",
       "      <th>3</th>\n",
       "      <td>2024-09-24</td>\n",
       "      <td>9:45 AM</td>\n",
       "      <td>13</td>\n",
       "    </tr>\n",
       "    <tr>\n",
       "      <th>4</th>\n",
       "      <td>2024-09-24</td>\n",
       "      <td>10:00 AM</td>\n",
       "      <td>17</td>\n",
       "    </tr>\n",
       "  </tbody>\n",
       "</table>\n",
       "</div>"
      ],
      "text/plain": [
       "         Date      Time  Student Count (1 min interval starting at time)\n",
       "0  2024-09-24   9:00 AM                                               15\n",
       "1  2024-09-24   9:15 AM                                                8\n",
       "2  2024-09-24   9:30 AM                                                4\n",
       "3  2024-09-24   9:45 AM                                               13\n",
       "4  2024-09-24  10:00 AM                                               17"
      ]
     },
     "execution_count": 4,
     "metadata": {},
     "output_type": "execute_result"
    }
   ],
   "source": [
    "df.head()"
   ]
  },
  {
   "cell_type": "code",
   "execution_count": 5,
   "metadata": {},
   "outputs": [],
   "source": [
    "df.to_hdf(h5_path, key='data', mode='w')"
   ]
  },
  {
   "cell_type": "code",
   "execution_count": 1,
   "metadata": {},
   "outputs": [],
   "source": [
    "import h5py \n",
    "import xml.etree.ElementTree as ET "
   ]
  },
  {
   "cell_type": "code",
   "execution_count": 2,
   "metadata": {},
   "outputs": [],
   "source": [
    "def add_attributes_to_xml(obj, xml_element):\n",
    "    \"\"\" Helper function to add attributes of a group/dataset to XML element \"\"\"\n",
    "    for key, value in obj.attrs.items():\n",
    "        attr_elem = ET.SubElement(xml_element, 'Attribute', name=key)\n",
    "        attr_elem.text = str(value)\n",
    "\n",
    "def explore_h5_file_and_generate_xml(file_path, xml_output_path):\n",
    "    \"\"\" Function to explore HDF5 file and generate an XML file with metadata \"\"\"\n",
    "    # Create the root element of the XML\n",
    "    root = ET.Element('HDF5_Metadata')\n",
    "\n",
    "    with h5py.File(file_path, 'r') as f:\n",
    "        # Function to traverse groups and datasets\n",
    "        def print_structure(name, obj):\n",
    "            if isinstance(obj, h5py.Group):\n",
    "                # Create XML element for group\n",
    "                group_elem = ET.SubElement(root, 'Group', name=name)\n",
    "                add_attributes_to_xml(obj, group_elem)\n",
    "            elif isinstance(obj, h5py.Dataset):\n",
    "                # Create XML element for dataset\n",
    "                dataset_elem = ET.SubElement(root, 'Dataset', name=name)\n",
    "                # Add shape and dtype as attributes\n",
    "                shape_elem = ET.SubElement(dataset_elem, 'Shape')\n",
    "                shape_elem.text = str(obj.shape)\n",
    "                dtype_elem = ET.SubElement(dataset_elem, 'DataType')\n",
    "                dtype_elem.text = str(obj.dtype)\n",
    "                # Add any other attributes\n",
    "                add_attributes_to_xml(obj, dataset_elem)\n",
    "\n",
    "        # Walk through the HDF5 file structure\n",
    "        f.visititems(print_structure)\n",
    "\n",
    "    # Write the XML structure to an XML file\n",
    "    tree = ET.ElementTree(root)\n",
    "    tree.write(xml_output_path, encoding='utf-8', xml_declaration=True)\n",
    "    print(f\"XML metadata saved to {xml_output_path}\")\n"
   ]
  },
  {
   "cell_type": "code",
   "execution_count": 6,
   "metadata": {},
   "outputs": [
    {
     "name": "stdout",
     "output_type": "stream",
     "text": [
      "XML metadata saved to metadata_output.xml\n"
     ]
    }
   ],
   "source": [
    "xml_output_file = 'metadata_output.xml'\n",
    "\n",
    "# Call the function to explore the HDF5 file and generate the XML file\n",
    "explore_h5_file_and_generate_xml(h5_path, xml_output_file)"
   ]
  },
  {
   "cell_type": "code",
   "execution_count": 1,
   "metadata": {},
   "outputs": [],
   "source": [
    "import h5py"
   ]
  },
  {
   "cell_type": "code",
   "execution_count": 5,
   "metadata": {},
   "outputs": [],
   "source": [
    "f = h5py.File('./foot_traffic_dataset.h5', 'r')"
   ]
  },
  {
   "cell_type": "code",
   "execution_count": 6,
   "metadata": {},
   "outputs": [
    {
     "name": "stdout",
     "output_type": "stream",
     "text": [
      "['data']\n"
     ]
    }
   ],
   "source": [
    "print(list(f.keys()))"
   ]
  },
  {
   "cell_type": "code",
   "execution_count": 10,
   "metadata": {},
   "outputs": [
    {
     "name": "stdout",
     "output_type": "stream",
     "text": [
      "data\n",
      "Group: data\n",
      "data/axis0\n",
      "Dataset: data/axis0 (3,) |S47\n",
      "data/axis1\n",
      "Dataset: data/axis1 (51,) int64\n",
      "data/block0_items\n",
      "Dataset: data/block0_items (2,) |S4\n",
      "data/block0_values\n",
      "Dataset: data/block0_values (1,) object\n",
      "data/block1_items\n",
      "Dataset: data/block1_items (1,) |S47\n",
      "data/block1_values\n",
      "Dataset: data/block1_values (51, 1) int64\n"
     ]
    }
   ],
   "source": [
    "def print_structure(name, obj):\n",
    "    print(name)\n",
    "    if isinstance(obj, h5py.Group):\n",
    "        print(\"Group:\", name)\n",
    "    elif isinstance(obj, h5py.Dataset):\n",
    "        print(\"Dataset:\", name, obj.shape, obj.dtype)\n",
    "\n",
    "f.visititems(print_structure)"
   ]
  },
  {
   "cell_type": "code",
   "execution_count": 13,
   "metadata": {},
   "outputs": [
    {
     "name": "stdout",
     "output_type": "stream",
     "text": [
      "|S47\n"
     ]
    }
   ],
   "source": [
    "dataset = f['data/axis0']\n",
    "print(dataset.dtype)"
   ]
  },
  {
   "cell_type": "code",
   "execution_count": 14,
   "metadata": {},
   "outputs": [
    {
     "data": {
      "text/plain": [
       "array([b'Date', b'Time',\n",
       "       b'Student Count (1 min interval starting at time)'], dtype='|S47')"
      ]
     },
     "execution_count": 14,
     "metadata": {},
     "output_type": "execute_result"
    }
   ],
   "source": [
    "dataset[:]"
   ]
  },
  {
   "cell_type": "code",
   "execution_count": 15,
   "metadata": {},
   "outputs": [
    {
     "data": {
      "text/plain": [
       "array([ 0,  1,  2,  3,  4,  5,  6,  7,  8,  9, 10, 11, 12, 13, 14, 15, 16,\n",
       "       17, 18, 19, 20, 21, 22, 23, 24, 25, 26, 27, 28, 29, 30, 31, 32, 33,\n",
       "       34, 35, 36, 37, 38, 39, 40, 41, 42, 43, 44, 45, 46, 47, 48, 49, 50])"
      ]
     },
     "execution_count": 15,
     "metadata": {},
     "output_type": "execute_result"
    }
   ],
   "source": [
    "f['data/axis1'][:]"
   ]
  },
  {
   "cell_type": "code",
   "execution_count": 16,
   "metadata": {},
   "outputs": [
    {
     "data": {
      "text/plain": [
       "array([b'Date', b'Time'], dtype='|S4')"
      ]
     },
     "execution_count": 16,
     "metadata": {},
     "output_type": "execute_result"
    }
   ],
   "source": [
    "f['data/block0_items'][:]"
   ]
  },
  {
   "cell_type": "code",
   "execution_count": 17,
   "metadata": {},
   "outputs": [
    {
     "data": {
      "text/plain": [
       "array([array([128,   5, 149,  85,   2,   0,   0,   0,   0,   0,   0, 140,  21,\n",
       "              110, 117, 109, 112, 121,  46,  99, 111, 114, 101,  46, 109, 117,\n",
       "              108, 116, 105,  97, 114, 114,  97, 121, 148, 140,  12,  95, 114,\n",
       "              101,  99, 111, 110, 115, 116, 114, 117,  99, 116, 148, 147, 148,\n",
       "              140,   5, 110, 117, 109, 112, 121, 148, 140,   7, 110, 100,  97,\n",
       "              114, 114,  97, 121, 148, 147, 148,  75,   0, 133, 148,  67,   1,\n",
       "               98, 148, 135, 148,  82, 148,  40,  75,   1,  75,  51,  75,   2,\n",
       "              134, 148, 104,   3, 140,   5, 100, 116, 121, 112, 101, 148, 147,\n",
       "              148, 140,   2,  79,  56, 148, 137, 136, 135, 148,  82, 148,  40,\n",
       "               75,   3, 140,   1, 124, 148,  78,  78,  78,  74, 255, 255, 255,\n",
       "              255,  74, 255, 255, 255, 255,  75,  63, 116, 148,  98, 136,  93,\n",
       "              148,  40, 140,  10,  50,  48,  50,  52,  45,  48,  57,  45,  50,\n",
       "               52, 148, 140,   7,  57,  58,  48,  48,  32,  65,  77, 148, 104,\n",
       "               19, 140,   7,  57,  58,  49,  53,  32,  65,  77, 148, 104,  19,\n",
       "              140,   7,  57,  58,  51,  48,  32,  65,  77, 148, 104,  19, 140,\n",
       "                7,  57,  58,  52,  53,  32,  65,  77, 148, 104,  19, 140,   8,\n",
       "               49,  48,  58,  48,  48,  32,  65,  77, 148, 104,  19, 140,   8,\n",
       "               49,  48,  58,  49,  53,  32,  65,  77, 148, 104,  19, 140,   8,\n",
       "               49,  48,  58,  51,  48,  32,  65,  77, 148, 104,  19, 140,   8,\n",
       "               49,  48,  58,  52,  53,  32,  65,  77, 148, 104,  19, 140,   8,\n",
       "               49,  49,  58,  48,  48,  32,  65,  77, 148, 104,  19, 140,   8,\n",
       "               49,  49,  58,  49,  53,  32,  65,  77, 148, 104,  19, 140,   8,\n",
       "               49,  49,  58,  51,  48,  32,  65,  77, 148, 104,  19, 140,   8,\n",
       "               49,  49,  58,  52,  53,  32,  65,  77, 148, 104,  19, 140,   7,\n",
       "               51,  58,  48,  48,  32,  80,  77, 148, 104,  19, 140,   7,  51,\n",
       "               58,  49,  53,  32,  80,  77, 148, 104,  19, 140,   7,  51,  58,\n",
       "               51,  48,  32,  80,  77, 148, 104,  19, 140,   7,  51,  58,  52,\n",
       "               53,  32,  80,  77, 148, 104,  19, 140,   7,  52,  58,  48,  48,\n",
       "               32,  80,  77, 148, 104,  19, 140,   7,  52,  58,  49,  53,  32,\n",
       "               80,  77, 148, 104,  19, 140,   7,  52,  58,  51,  48,  32,  80,\n",
       "               77, 148, 104,  19, 140,   7,  52,  58,  52,  53,  32,  80,  77,\n",
       "              148, 104,  19, 140,   7,  53,  58,  48,  48,  32,  80,  77, 148,\n",
       "              104,  19, 140,   7,  53,  58,  49,  53,  32,  80,  77, 148, 104,\n",
       "               19, 140,   7,  53,  58,  51,  48,  32,  80,  77, 148, 104,  19,\n",
       "              140,   7,  53,  58,  52,  53,  32,  80,  77, 148, 104,  19, 140,\n",
       "                7,  54,  58,  48,  48,  32,  80,  77, 148, 104,  19, 140,   7,\n",
       "               54,  58,  49,  53,  32,  80,  77, 148, 104,  19, 140,   7,  54,\n",
       "               58,  51,  48,  32,  80,  77, 148, 104,  19, 140,   7,  54,  58,\n",
       "               52,  53,  32,  80,  77, 148, 140,  10,  50,  48,  50,  52,  45,\n",
       "               48,  57,  45,  50,  55, 148, 104,  24, 104,  48, 104,  25, 104,\n",
       "               48, 104,  26, 104,  48, 104,  27, 104,  48, 104,  28, 104,  48,\n",
       "              104,  29, 104,  48, 104,  30, 104,  48, 104,  31, 104,  48, 104,\n",
       "               32, 104,  48, 104,  33, 104,  48, 104,  34, 104,  48, 104,  35,\n",
       "              104,  48, 104,  36, 104,  48, 104,  37, 104,  48, 104,  38, 104,\n",
       "               48, 104,  39, 104,  48, 104,  40, 104,  48, 104,  41, 104,  48,\n",
       "              104,  43, 104,  48, 104,  44, 104,  48, 104,  45, 104,  48, 104,\n",
       "               46, 104,  48, 104,  47, 101, 116, 148,  98,  46], dtype=uint8) ],\n",
       "      dtype=object)"
      ]
     },
     "execution_count": 17,
     "metadata": {},
     "output_type": "execute_result"
    }
   ],
   "source": [
    "f['data/block0_values'][:]"
   ]
  },
  {
   "cell_type": "code",
   "execution_count": 18,
   "metadata": {},
   "outputs": [
    {
     "data": {
      "text/plain": [
       "array([b'Student Count (1 min interval starting at time)'], dtype='|S47')"
      ]
     },
     "execution_count": 18,
     "metadata": {},
     "output_type": "execute_result"
    }
   ],
   "source": [
    "f['data/block1_items'][:]"
   ]
  },
  {
   "cell_type": "code",
   "execution_count": 19,
   "metadata": {},
   "outputs": [
    {
     "data": {
      "text/plain": [
       "array([[15],\n",
       "       [ 8],\n",
       "       [ 4],\n",
       "       [13],\n",
       "       [17],\n",
       "       [13],\n",
       "       [ 5],\n",
       "       [ 9],\n",
       "       [18],\n",
       "       [13],\n",
       "       [ 4],\n",
       "       [16],\n",
       "       [13],\n",
       "       [ 7],\n",
       "       [ 6],\n",
       "       [16],\n",
       "       [14],\n",
       "       [ 7],\n",
       "       [ 4],\n",
       "       [ 5],\n",
       "       [ 5],\n",
       "       [ 4],\n",
       "       [ 3],\n",
       "       [ 1],\n",
       "       [ 1],\n",
       "       [ 2],\n",
       "       [ 3],\n",
       "       [ 4],\n",
       "       [ 7],\n",
       "       [ 2],\n",
       "       [ 3],\n",
       "       [ 4],\n",
       "       [15],\n",
       "       [11],\n",
       "       [ 9],\n",
       "       [12],\n",
       "       [12],\n",
       "       [11],\n",
       "       [ 7],\n",
       "       [16],\n",
       "       [10],\n",
       "       [ 6],\n",
       "       [ 4],\n",
       "       [ 5],\n",
       "       [ 3],\n",
       "       [ 3],\n",
       "       [ 1],\n",
       "       [ 6],\n",
       "       [ 1],\n",
       "       [ 2],\n",
       "       [ 2]])"
      ]
     },
     "execution_count": 19,
     "metadata": {},
     "output_type": "execute_result"
    }
   ],
   "source": [
    "f['data/block1_values'][:]"
   ]
  },
  {
   "cell_type": "code",
   "execution_count": null,
   "metadata": {},
   "outputs": [],
   "source": []
  }
 ],
 "metadata": {
  "kernelspec": {
   "display_name": "test_env2",
   "language": "python",
   "name": "python3"
  },
  "language_info": {
   "codemirror_mode": {
    "name": "ipython",
    "version": 3
   },
   "file_extension": ".py",
   "mimetype": "text/x-python",
   "name": "python",
   "nbconvert_exporter": "python",
   "pygments_lexer": "ipython3",
   "version": "3.9.20"
  }
 },
 "nbformat": 4,
 "nbformat_minor": 2
}
